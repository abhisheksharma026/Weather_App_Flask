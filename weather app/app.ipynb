{
 "cells": [
  {
   "cell_type": "code",
   "execution_count": null,
   "metadata": {},
   "outputs": [],
   "source": [
    "from flask import Flask, Response, render_template\n",
    "import requests\n",
    "from flask import request\n",
    "\n",
    "# Navbar : https://bulma.io/documentation/layout/hero/\n",
    "\n",
    "app = Flask(__name__)\n",
    "\n",
    "@app.route('/', methods=['GET', 'POST'])\n",
    "def index():\n",
    "    weather_data = []\n",
    "    url = 'http://api.openweathermap.org/data/2.5/weather?q={}&units=metric&appid=0028bc83192b635b4113cc2b7e1a6c70'\n",
    "    \n",
    "    if request.method == 'POST':\n",
    "\n",
    "        city = request.form['city']\n",
    "        try:\n",
    "            r = requests.get(url.format(city)).json()\n",
    "\n",
    "            city_weather = {\n",
    "                'city' : city,\n",
    "                'temperature' : r['main']['temp'],\n",
    "                'description' : r['weather'][0]['description'],\n",
    "                'icon' : r['weather'][0]['icon'],\n",
    "            }\n",
    "            weather_data.append(city_weather)\n",
    "        except:\n",
    "            return(r\"<html><body><h1 style='color:red' align='center'> No Such City in the Database, Sorry..!</h1></body></html>\")\n",
    "\n",
    "    return render_template('weather.html', weather_data = weather_data)\n",
    "\n",
    "if __name__ == '__main__':\n",
    "    app.run(host=\"127.0.0.1\", port=8000, debug=True, use_reloader = False)"
   ]
  },
  {
   "cell_type": "code",
   "execution_count": null,
   "metadata": {},
   "outputs": [],
   "source": [
    "%tb"
   ]
  }
 ],
 "metadata": {
  "kernelspec": {
   "display_name": "Python 3",
   "language": "python",
   "name": "python3"
  },
  "language_info": {
   "codemirror_mode": {
    "name": "ipython",
    "version": 3
   },
   "file_extension": ".py",
   "mimetype": "text/x-python",
   "name": "python",
   "nbconvert_exporter": "python",
   "pygments_lexer": "ipython3",
   "version": "3.6.8"
  }
 },
 "nbformat": 4,
 "nbformat_minor": 2
}
